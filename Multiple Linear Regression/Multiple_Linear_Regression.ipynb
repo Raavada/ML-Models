{
  "nbformat": 4,
  "nbformat_minor": 0,
  "metadata": {
    "colab": {
      "name": "Multiple Linear Regression.ipynb",
      "provenance": []
    },
    "kernelspec": {
      "name": "python3",
      "display_name": "Python 3"
    }
  },
  "cells": [
    {
      "cell_type": "code",
      "metadata": {
        "id": "tA1G45RpwqVt",
        "colab_type": "code",
        "colab": {}
      },
      "source": [
        "import numpy as np\n",
        "import matplotlib.pyplot as plt\n",
        "import pandas as pd"
      ],
      "execution_count": 0,
      "outputs": []
    },
    {
      "cell_type": "code",
      "metadata": {
        "id": "RqrGurLJw2Rm",
        "colab_type": "code",
        "colab": {}
      },
      "source": [
        "dataset = pd.read_csv(\"50_Startups.csv\")\n",
        "X = dataset.iloc[:,:-1].values\n",
        "y = dataset.iloc[:,4].values"
      ],
      "execution_count": 0,
      "outputs": []
    },
    {
      "cell_type": "code",
      "metadata": {
        "id": "H9BYZ3eBw7nt",
        "colab_type": "code",
        "colab": {}
      },
      "source": [
        "#Encoding the categorical value\n",
        "from sklearn.preprocessing import LabelEncoder , OneHotEncoder\n",
        "labelencoder_X = LabelEncoder()\n",
        "X[:,3] = labelencoder_X.fit_transform(X[:,3])\n",
        "onehotencoder = OneHotEncoder(categorical_features=[3])\n",
        "X = onehotencoder.fit_transform(X).toarray()"
      ],
      "execution_count": 0,
      "outputs": []
    },
    {
      "cell_type": "code",
      "metadata": {
        "id": "hNRRoQ7_w9nX",
        "colab_type": "code",
        "colab": {}
      },
      "source": [
        "#Avoiding the Dummy Variable Trap\n",
        "X = X[:,1:]\n",
        "\n",
        "#Splitting the dataset into Trainning and Testing\n",
        "from sklearn.model_selection import train_test_split\n",
        "X_train, X_test , y_train, y_test = train_test_split(X,y,test_size = 0.2,random_state = 0)\n",
        "\n",
        "from sklearn.linear_model import LinearRegression\n",
        "regressor = LinearRegression()\n",
        "regressor.fit(X_train,y_train)\n",
        "\n",
        "#predicting the test values\n",
        "y_pred = regressor.predict(X_test)"
      ],
      "execution_count": 0,
      "outputs": []
    },
    {
      "cell_type": "code",
      "metadata": {
        "id": "kRPUCC3XxKK9",
        "colab_type": "code",
        "colab": {}
      },
      "source": [
        ""
      ],
      "execution_count": 0,
      "outputs": []
    }
  ]
}